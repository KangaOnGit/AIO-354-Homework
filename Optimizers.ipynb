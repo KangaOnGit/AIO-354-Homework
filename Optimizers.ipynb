{
  "nbformat": 4,
  "nbformat_minor": 0,
  "metadata": {
    "colab": {
      "provenance": [],
      "authorship_tag": "ABX9TyO0qr0rpggElU+4knR3L3QU",
      "include_colab_link": true
    },
    "kernelspec": {
      "name": "python3",
      "display_name": "Python 3"
    },
    "language_info": {
      "name": "python"
    }
  },
  "cells": [
    {
      "cell_type": "markdown",
      "metadata": {
        "id": "view-in-github",
        "colab_type": "text"
      },
      "source": [
        "<a href=\"https://colab.research.google.com/github/KangaOnGit/AIO-354-Homework/blob/develop/Optimizers.ipynb\" target=\"_parent\"><img src=\"https://colab.research.google.com/assets/colab-badge.svg\" alt=\"Open In Colab\"/></a>"
      ]
    },
    {
      "cell_type": "code",
      "execution_count": null,
      "metadata": {
        "id": "J4MJvI36wZ4w"
      },
      "outputs": [],
      "source": [
        "import numpy as np"
      ]
    },
    {
      "cell_type": "code",
      "source": [
        "def initializer(input, theta):\n",
        "  \"\"\"\n",
        "    Initialize parameters\n",
        "\n",
        "    Args:\n",
        "      input: Contains input features (np.array)\n",
        "      theta: Contains parameters (np.array)\n",
        "\n",
        "    Returns:\n",
        "      target_function: Function to optimize\n",
        "  \"\"\"\n",
        "  target_function = (input**2).T.dot(theta)\n",
        "  return target_function\n",
        "\n",
        "input = np.array([-5, -2])\n",
        "theta = np.array([0.1, 2])\n",
        "f = initializer(input, theta)\n",
        "print(f)"
      ],
      "metadata": {
        "colab": {
          "base_uri": "https://localhost:8080/"
        },
        "id": "PS5ASjqd2d-G",
        "outputId": "84a198ef-2a93-438c-fd38-ece7f7c647fa"
      },
      "execution_count": null,
      "outputs": [
        {
          "output_type": "stream",
          "name": "stdout",
          "text": [
            "10.5\n"
          ]
        }
      ]
    },
    {
      "cell_type": "code",
      "source": [
        "def df_w(W):\n",
        "  \"\"\"\n",
        "    Compute gradient of target function with respect w_1 and w_2\n",
        "\n",
        "    Args:\n",
        "      W: Contains w_1 and w_2 (np.array)\n",
        "\n",
        "    Returns:\n",
        "      dW: Contains the gradient of w_1 and w_2 (np.array)\n",
        "  \"\"\"\n",
        "  df_dw1 = 0.2 * W[0]\n",
        "  df_dw2 = 4 * W[1]\n",
        "\n",
        "  dW = np.array([df_dw1, df_dw2])\n",
        "  return dW\n",
        "\n",
        "dW = df_w(input)\n",
        "print(dW)"
      ],
      "metadata": {
        "id": "2d6amZTxwdul",
        "colab": {
          "base_uri": "https://localhost:8080/"
        },
        "outputId": "3db477fe-e3a4-48ef-f87b-4e265ea5be7e"
      },
      "execution_count": null,
      "outputs": [
        {
          "output_type": "stream",
          "name": "stdout",
          "text": [
            "[-1. -8.]\n"
          ]
        }
      ]
    },
    {
      "cell_type": "markdown",
      "source": [
        "# **1. Gradient Descent**\n",
        "\n",
        "---\n",
        "\n"
      ],
      "metadata": {
        "id": "kqEtQZYe9cst"
      }
    },
    {
      "cell_type": "code",
      "source": [
        "def gd(W, dW, lr):\n",
        "  \"\"\"\n",
        "    Stochastic Gradient Descent to update w_1 and w_2 of array W\n",
        "\n",
        "    Args:\n",
        "      W: Contains paramsw_1 and w_2 (np.array)\n",
        "      dW: Contains the gradient of w_1 and w_2 (np.array)\n",
        "      lr: learning rate (float)\n",
        "\n",
        "    Returns:\n",
        "      W: Contains updated w_1 and w_2 (np.array)\n",
        "  \"\"\"\n",
        "  W = W - lr*dW\n",
        "  return W\n",
        "\n",
        "W = gd(input, dW, lr = 0.4)\n",
        "\n",
        "print(input)\n",
        "print(W)"
      ],
      "metadata": {
        "colab": {
          "base_uri": "https://localhost:8080/"
        },
        "id": "h1stEZm62k8Q",
        "outputId": "5b932a20-1268-45f1-c466-3aedc759a95a"
      },
      "execution_count": null,
      "outputs": [
        {
          "output_type": "stream",
          "name": "stdout",
          "text": [
            "[-5 -2]\n",
            "[-4.6  1.2]\n"
          ]
        }
      ]
    },
    {
      "cell_type": "code",
      "source": [
        "def train_gd(W, optim, lr, epochs):\n",
        "  \"\"\"\n",
        "    Train the target function\n",
        "\n",
        "    Args:\n",
        "      W: Contains w_1 and w_2 (np.array)\n",
        "      lr: Learning rate (float)\n",
        "      epochs: Number of times trained (int)\n",
        "\n",
        "    Returns:\n",
        "      results: Contains updated w_1 and w_2 of each iteration (list)\n",
        "  \"\"\"\n",
        "  results = [W]\n",
        "\n",
        "  for i in range(epochs):\n",
        "    dW = df_w(W)\n",
        "    W = optim(W, dW, lr)\n",
        "    results.append(W)\n",
        "\n",
        "  return results\n",
        "\n",
        "results = train_gd(input, gd, lr = 0.4, epochs = 30)\n",
        "results2 = train_gd(input, gd, lr = 0.4, epochs = 2)\n",
        "print(results)\n",
        "print(results2)"
      ],
      "metadata": {
        "colab": {
          "base_uri": "https://localhost:8080/"
        },
        "id": "KipE1A6d6b-k",
        "outputId": "66a5ea42-d56b-4a20-ab4a-c24cd5f507a5"
      },
      "execution_count": null,
      "outputs": [
        {
          "output_type": "stream",
          "name": "stdout",
          "text": [
            "[array([-5, -2]), array([-4.6,  1.2]), array([-4.232, -0.72 ]), array([-3.89344,  0.432  ]), array([-3.5819648, -0.2592   ]), array([-3.29540762,  0.15552   ]), array([-3.03177501, -0.093312  ]), array([-2.78923301,  0.0559872 ]), array([-2.56609437, -0.03359232]), array([-2.36080682,  0.02015539]), array([-2.17194227, -0.01209324]), array([-1.99818689,  0.00725594]), array([-1.83833194, -0.00435356]), array([-1.69126538,  0.00261214]), array([-1.55596415, -0.00156728]), array([-1.43148702e+00,  9.40369969e-04]), array([-1.31696806e+00, -5.64221981e-04]), array([-1.21161061e+00,  3.38533189e-04]), array([-1.11468176e+00, -2.03119913e-04]), array([-1.02550722e+00,  1.21871948e-04]), array([-9.43466646e-01, -7.31231688e-05]), array([-8.67989314e-01,  4.38739013e-05]), array([-7.98550169e-01, -2.63243408e-05]), array([-7.34666155e-01,  1.57946045e-05]), array([-6.75892863e-01, -9.47676268e-06]), array([-6.21821434e-01,  5.68605761e-06]), array([-5.72075719e-01, -3.41163456e-06]), array([-5.26309662e-01,  2.04698074e-06]), array([-4.84204889e-01, -1.22818844e-06]), array([-4.45468498e-01,  7.36913066e-07]), array([-4.09831018e-01, -4.42147839e-07])]\n",
            "[array([-5, -2]), array([-4.6,  1.2]), array([-4.232, -0.72 ])]\n"
          ]
        }
      ]
    },
    {
      "cell_type": "markdown",
      "source": [
        "# **2. Stochastic Gradient Descent**\n",
        "\n",
        "---\n",
        "\n"
      ],
      "metadata": {
        "id": "9Dy75SJI8uwm"
      }
    },
    {
      "cell_type": "code",
      "source": [
        "def compute_momentum(beta, V, dW):\n",
        "  \"\"\"\n",
        "    Compute momentum for Stochastic Gradient Descent\n",
        "\n",
        "    Args:\n",
        "      beta: Hyper parameter for regularization (float)\n",
        "      dW: Contains the gradient of w_1 and w_2 (np.array)\n",
        "\n",
        "    Returns:\n",
        "      V_t: Contains updated velocity (np.array)\n",
        "  \"\"\"\n",
        "  V = beta*V + (1 - beta)*dW\n",
        "  return V\n",
        "\n",
        "V = np.array([0, 0])\n",
        "momentum = compute_momentum(beta = 0.5, V = V, dW = dW)\n",
        "print(momentum)"
      ],
      "metadata": {
        "colab": {
          "base_uri": "https://localhost:8080/"
        },
        "id": "iThcviQM81gU",
        "outputId": "dfd6ad8b-3e51-486a-b7d5-9c78faba2cae"
      },
      "execution_count": null,
      "outputs": [
        {
          "output_type": "stream",
          "name": "stdout",
          "text": [
            "[-0.5 -4. ]\n"
          ]
        }
      ]
    },
    {
      "cell_type": "code",
      "source": [
        "def sgd(W, dW, lr, beta, V):\n",
        "  \"\"\"\n",
        "    Stochastic Gradient Descent to update weight\n",
        "\n",
        "    Arg:\n",
        "      W: Contains w_1 and w_2 (np.array)\n",
        "      lr: Learning rate (float)\n",
        "\n",
        "    Returns:\n",
        "      W: Contains updated w_1 and w_2 (np.array)\n",
        "  \"\"\"\n",
        "  momentum = compute_momentum(beta = beta, dW = dW, V= V)\n",
        "  V = momentum\n",
        "  W = W - lr*V\n",
        "  return W, V\n",
        "\n",
        "W, V_1 = sgd(input, dW, lr = 0.6, beta = 0.5, V = V)\n",
        "print(W, V_1)"
      ],
      "metadata": {
        "colab": {
          "base_uri": "https://localhost:8080/"
        },
        "id": "7ALyR0dM-Or1",
        "outputId": "6a23786d-851e-4535-c2b0-9695549c1527"
      },
      "execution_count": null,
      "outputs": [
        {
          "output_type": "stream",
          "name": "stdout",
          "text": [
            "[-4.7  0.4] [-0.5 -4. ]\n"
          ]
        }
      ]
    },
    {
      "cell_type": "code",
      "source": [
        "def train_sgd(W, dW, lr, beta, V, optim, epochs):\n",
        "  \"\"\"\n",
        "    Train the target function\n",
        "\n",
        "    Args:\n",
        "      W: Contains w_1 and w_2 (np.array)\n",
        "      lr: Learning rate (float)\n",
        "      epochs: Number of times trained (int)\n",
        "      beta: Hyper parameter for regularization (float)\n",
        "\n",
        "    Returns:\n",
        "      results: Contains updated w_1 and w_2 of each iteration (list)\n",
        "  \"\"\"\n",
        "  results = [W]\n",
        "\n",
        "  for i in range(epochs):\n",
        "    dW = df_w(W)\n",
        "    W, V_1 = optim(W = W, dW = dW, lr = lr, beta = beta, V = V)\n",
        "    V = V_1\n",
        "    results.append(W)\n",
        "\n",
        "  return results\n",
        "\n",
        "results = train_sgd(input, dW, lr = 0.6, beta = 0.5, V = V, optim = sgd, epochs = 30)\n",
        "results2 = train_sgd(input, dW, lr = 0.6, beta = 0.5, V = V, optim = sgd, epochs = 2)\n",
        "print(results)\n",
        "print(results2)"
      ],
      "metadata": {
        "colab": {
          "base_uri": "https://localhost:8080/"
        },
        "id": "Iqxb__LZBjd-",
        "outputId": "83191910-a870-4cdb-94b2-69dd52f3851a"
      },
      "execution_count": null,
      "outputs": [
        {
          "output_type": "stream",
          "name": "stdout",
          "text": [
            "[array([-5, -2]), array([-4.7,  0.4]), array([-4.268,  1.12 ]), array([-3.79592,  0.136  ]), array([-3.3321248, -0.5192   ]), array([-2.90029971, -0.22376   ]), array([-2.51036919,  0.192472  ]), array([-2.16478177,  0.1696216 ]), array([-1.86210116, -0.04534952]), array([-1.59903478, -0.09841566]), array([-1.37155951, -0.00684994]), array([-1.1755283 ,  0.04715285]), array([-1.006981  ,  0.01757082]), array([-0.86228849, -0.01830518]), array([-0.73820492, -0.01427696]), array([-0.63187084,  0.0048695 ]), array([-0.54079155,  0.00859933]), array([-4.62804416e-01,  1.45050014e-04]), array([-0.39604258, -0.00425615]), array([-0.33889911, -0.00134937]), array([-0.28999343,  0.00172326]), array([-0.24814098,  0.00119166]), array([-0.2123263 , -0.00050413]), array([-0.18167938, -0.00074707]), array([-1.55455157e-01,  2.79448010e-05]), array([-0.13301574,  0.00038192]), array([-1.13815082e-01,  1.00603444e-04]), array([-0.09738585, -0.00016078]), array([-8.33280829e-02, -9.85353344e-05]), array([-7.12995144e-02,  5.08287536e-05]), array([-6.10072592e-02,  6.45162933e-05])]\n",
            "[array([-5, -2]), array([-4.7,  0.4]), array([-4.268,  1.12 ])]\n"
          ]
        }
      ]
    },
    {
      "cell_type": "markdown",
      "source": [
        "# **3. RMSProp**\n",
        "\n",
        "---\n",
        "\n"
      ],
      "metadata": {
        "id": "D5QbMk1RMCxf"
      }
    },
    {
      "cell_type": "code",
      "source": [
        "def compute_S(s, gamma, dW):\n",
        "  S_t = gamma*s + (1 - gamma)*(dW**2)\n",
        "  return S_t\n",
        "\n",
        "s = np.array([0, 0])\n",
        "S = compute_S(s = s, gamma = 0.9, dW = dW)\n",
        "print(S)"
      ],
      "metadata": {
        "colab": {
          "base_uri": "https://localhost:8080/"
        },
        "id": "cTkEEDE2L-gQ",
        "outputId": "8e85030a-6b54-425a-9de8-6593065cd096"
      },
      "execution_count": null,
      "outputs": [
        {
          "output_type": "stream",
          "name": "stdout",
          "text": [
            "[0.1 6.4]\n"
          ]
        }
      ]
    },
    {
      "cell_type": "code",
      "source": [
        "def RMSProp(W, dW, lr, decay, s, gamma):\n",
        "  \"\"\"\n",
        "    RMSProp to update weight\n",
        "\n",
        "    Arg:\n",
        "      W:\n",
        "  \"\"\"\n",
        "  S_t = compute_S(s = s, gamma = gamma, dW = dW)\n",
        "  W = W - lr*dW/np.sqrt(S_t + decay)\n",
        "  return W, S_t\n",
        "\n",
        "W, S_t = RMSProp(W = input, dW = dW, lr = 0.3, gamma = 0.9, decay = 10**-6, s = s)\n",
        "print(W)"
      ],
      "metadata": {
        "colab": {
          "base_uri": "https://localhost:8080/"
        },
        "id": "bUv7hVfkMmnY",
        "outputId": "3d859f8c-5805-4fd2-c4af-9886dc4e3fbd"
      },
      "execution_count": null,
      "outputs": [
        {
          "output_type": "stream",
          "name": "stdout",
          "text": [
            "[-4.05132145 -1.05131678]\n"
          ]
        }
      ]
    },
    {
      "cell_type": "code",
      "source": [
        "def train_RMSPRop(W, dW, lr, decay, s, gamma, epochs, optim):\n",
        "  \"\"\"\n",
        "    Train the target function\n",
        "\n",
        "    Args:\n",
        "      W: Contains w_1 and w_2 (np.array)\n",
        "      lr: Learning rate (float)\n",
        "      decay: Decay rate (float)\n",
        "      s_0: Initial squared gradient (float)\n",
        "      gamma: Hyper parameter for regularization (float)\n",
        "      epochs: Number of times trained (int)\n",
        "\n",
        "    Returns:\n",
        "      results: Contains updated w_1 and w_2 of each iteration (list)\n",
        "  \"\"\"\n",
        "  results = [W]\n",
        "\n",
        "  for i in range(epochs):\n",
        "    dW = df_w(W)\n",
        "    W, S_t = optim(W = W, dW = dW, lr = lr, decay = decay, s = s, gamma = gamma)\n",
        "    s = S_t\n",
        "    results.append(W)\n",
        "\n",
        "  return results\n",
        "\n",
        "results = train_RMSPRop(input, dW, lr = 0.3, gamma = 0.9, s = s, optim = RMSProp, epochs = 30, decay = 10**-6)\n",
        "results2 = train_RMSPRop(input, dW, lr = 0.3, gamma = 0.9, s = s, optim = RMSProp, epochs = 2, decay = 10**-6)\n",
        "print(results)\n",
        "print(results2)"
      ],
      "metadata": {
        "colab": {
          "base_uri": "https://localhost:8080/"
        },
        "id": "he8B2RA6NmQp",
        "outputId": "eca1e2be-afd9-4974-f4a8-4748a05ee301"
      },
      "execution_count": null,
      "outputs": [
        {
          "output_type": "stream",
          "name": "stdout",
          "text": [
            "[array([-5, -2]), array([-4.05132145, -1.05131678]), array([-3.43519754, -0.59152343]), array([-2.95893693, -0.3294394 ]), array([-2.56546289, -0.17756482]), array([-2.22920552, -0.09163256]), array([-1.93626752, -0.04494499]), array([-1.67817686, -0.02081423]), array([-1.44934985, -0.00903559]), array([-1.24588199, -0.00364591]), array([-1.06490301, -0.00135351]), array([-9.04202260e-01, -4.56444431e-04]), array([-7.61996495e-01, -1.37562928e-04]), array([-6.36778499e-01, -3.62601019e-05]), array([-5.27215237e-01, -8.11337456e-06]), array([-4.32078505e-01, -1.47473412e-06]), array([-3.50198507e-01, -2.02783991e-07]), array([-2.80434649e-01, -1.84231187e-08]), array([-2.21659834e-01, -7.67742748e-10]), array([-1.72755512e-01,  7.80451998e-12]), array([-1.32615134e-01, -5.05794800e-13]), array([-1.00153779e-01,  6.19123501e-14]), array([-7.43217708e-02, -1.13373781e-14]), array([-5.41201278e-02,  2.80166702e-15]), array([-3.86159157e-02, -8.81341191e-16]), array([-2.69558066e-02,  3.39921117e-16]), array([-1.83765633e-02, -1.56581731e-16]), array([-1.22116093e-02,  8.44994985e-17]), array([-7.89331794e-03, -5.26376595e-17]), array([-4.95110261e-03,  3.74107995e-17]), array([-3.00577081e-03, -3.00506084e-17])]\n",
            "[array([-5, -2]), array([-4.05132145, -1.05131678]), array([-3.43519754, -0.59152343])]\n"
          ]
        }
      ]
    },
    {
      "cell_type": "markdown",
      "source": [
        "# **4. Adam**\n",
        "(t = epoch)\n",
        "---\n",
        "\n"
      ],
      "metadata": {
        "id": "n4svFlq6xb5h"
      }
    },
    {
      "cell_type": "code",
      "source": [
        "def compute_moment(beta_1, v, dW,):\n",
        "  V_t = beta_1*v + (1 - beta_1)*dW\n",
        "  return V_t\n",
        "\n",
        "v = np.array([0, 0])\n",
        "moment = compute_moment(beta_1 = 0.9, v = v, dW = dW)\n",
        "print(moment)\n",
        "print(type(moment))\n",
        "print(v)"
      ],
      "metadata": {
        "colab": {
          "base_uri": "https://localhost:8080/"
        },
        "id": "lElxJdWxxhLj",
        "outputId": "56b263a6-f2cd-4cc8-bc5d-8f17116021a0"
      },
      "execution_count": null,
      "outputs": [
        {
          "output_type": "stream",
          "name": "stdout",
          "text": [
            "[-0.1 -0.8]\n",
            "<class 'numpy.ndarray'>\n",
            "[0 0]\n"
          ]
        }
      ]
    },
    {
      "cell_type": "code",
      "source": [
        "def compute_squared_gradient(beta_2, s, dW):\n",
        "  S_t = beta_2*s + (1 - beta_2)*(dW**2)\n",
        "  return S_t\n",
        "\n",
        "s = np.array([0, 0])\n",
        "Squared_grad = compute_squared_gradient(beta_2 = 0.999, s = s, dW = dW)\n",
        "print(Squared_grad)\n",
        "print(type(Squared_grad))\n",
        "print(s)"
      ],
      "metadata": {
        "colab": {
          "base_uri": "https://localhost:8080/"
        },
        "id": "N2ha1hxGxrXg",
        "outputId": "606d4d5e-7d96-425a-f9e6-46ab31006c7e"
      },
      "execution_count": null,
      "outputs": [
        {
          "output_type": "stream",
          "name": "stdout",
          "text": [
            "[0.001 0.064]\n",
            "<class 'numpy.ndarray'>\n",
            "[0 0]\n"
          ]
        }
      ]
    },
    {
      "cell_type": "code",
      "source": [
        "def moment_correction(V_t, beta_1, epoch):\n",
        "  V_corr = V_t/(1 - beta_1**epoch)\n",
        "  return V_corr\n",
        "\n",
        "def squared_gradient_correction(S_t, beta_2,epoch):\n",
        "  S_corr = S_t/(1 - beta_2**epoch)\n",
        "  return S_corr"
      ],
      "metadata": {
        "id": "V1VSKXcMxzf-"
      },
      "execution_count": null,
      "outputs": []
    },
    {
      "cell_type": "code",
      "source": [
        "def Adam(W, dW, lr, beta_1, beta_2, v, s, decay, epoch):\n",
        "  V_t = compute_moment(beta_1, v, dW)\n",
        "\n",
        "  S_t = compute_squared_gradient(beta_2, s, dW)\n",
        "\n",
        "  W = W - lr*((moment_correction(V_t, beta_1, epoch))/(np.sqrt(squared_gradient_correction(S_t, beta_2, epoch)) + decay))\n",
        "  return W, V_t, S_t\n"
      ],
      "metadata": {
        "id": "v2rrgk5Qym5J"
      },
      "execution_count": null,
      "outputs": []
    },
    {
      "cell_type": "code",
      "source": [
        "def train_Adam(W, dW, lr, beta_1, beta_2, v, s, decay, epochs, optim):\n",
        "  results = [W]\n",
        "  V_t_tracker = [v]\n",
        "  S_t_tracker = [s]\n",
        "\n",
        "  for i in range(1, epochs):\n",
        "    W, V_t, S_t = Adam(W, dW, lr, beta_1, beta_2, v, s, decay, epoch = i)\n",
        "    v = V_t\n",
        "    s = S_t\n",
        "\n",
        "    results.append(W)\n",
        "    V_t_tracker.append(v)\n",
        "    S_t_tracker.append(s)\n",
        "\n",
        "  return results, V_t_tracker, S_t_tracker"
      ],
      "metadata": {
        "id": "pMQL0UzUzmfo"
      },
      "execution_count": null,
      "outputs": []
    },
    {
      "cell_type": "code",
      "source": [
        "results, v_list, s_list = train_Adam(W = input, dW = dW, lr = 0.2, beta_1 = 0.9, beta_2 = 0.999, decay = 10**-6, s = s, v = v, epochs = 30, optim = Adam)\n",
        "print(results)"
      ],
      "metadata": {
        "colab": {
          "base_uri": "https://localhost:8080/"
        },
        "id": "Igh_TjjDz3wx",
        "outputId": "569d97b4-94a9-452f-8be2-5065031783bc"
      },
      "execution_count": null,
      "outputs": [
        {
          "output_type": "stream",
          "name": "stdout",
          "text": [
            "[array([-5, -2]), array([-4.8000002 , -1.80000002]), array([-4.6000004 , -1.60000005]), array([-4.4000006 , -1.40000007]), array([-4.2000008, -1.2000001]), array([-4.000001  , -1.00000012]), array([-3.8000012 , -0.80000015]), array([-3.6000014 , -0.60000017]), array([-3.4000016, -0.4000002]), array([-3.2000018 , -0.20000022]), array([-3.00000200e+00, -2.49999972e-07]), array([-2.8000022 ,  0.19999973]), array([-2.6000024,  0.3999997]), array([-2.4000026 ,  0.59999968]), array([-2.2000028 ,  0.79999965]), array([-2.000003  ,  0.99999963]), array([-1.8000032,  1.1999996]), array([-1.6000034 ,  1.39999958]), array([-1.4000036 ,  1.59999955]), array([-1.2000038 ,  1.79999953]), array([-1.000004 ,  1.9999995]), array([-0.8000042 ,  2.19999948]), array([-0.6000044 ,  2.39999945]), array([-0.4000046 ,  2.59999943]), array([-0.2000048,  2.7999994]), array([-4.99999500e-06,  2.99999938e+00]), array([0.1999948 , 3.19999935]), array([0.3999946 , 3.39999933]), array([0.5999944, 3.5999993]), array([0.7999942 , 3.79999928])]\n"
          ]
        }
      ]
    }
  ]
}